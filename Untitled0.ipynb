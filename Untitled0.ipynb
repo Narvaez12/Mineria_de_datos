{
  "nbformat": 4,
  "nbformat_minor": 0,
  "metadata": {
    "colab": {
      "name": "Untitled0.ipynb",
      "provenance": [],
      "authorship_tag": "ABX9TyON6QquEy3Cli+KX5J11I5W",
      "include_colab_link": true
    },
    "kernelspec": {
      "name": "python3",
      "display_name": "Python 3"
    },
    "language_info": {
      "name": "python"
    }
  },
  "cells": [
    {
      "cell_type": "markdown",
      "metadata": {
        "id": "view-in-github",
        "colab_type": "text"
      },
      "source": [
        "<a href=\"https://colab.research.google.com/github/Narvaez12/Mineria_de_datos/blob/main/Untitled0.ipynb\" target=\"_parent\"><img src=\"https://colab.research.google.com/assets/colab-badge.svg\" alt=\"Open In Colab\"/></a>"
      ]
    },
    {
      "cell_type": "code",
      "metadata": {
        "id": "0rPj7b7HylLe"
      },
      "source": [
        ""
      ],
      "execution_count": null,
      "outputs": []
    },
    {
      "cell_type": "markdown",
      "metadata": {
        "id": "pMcOB9-hzDEm"
      },
      "source": [
        "Programa 1"
      ]
    },
    {
      "cell_type": "code",
      "metadata": {
        "colab": {
          "base_uri": "https://localhost:8080/"
        },
        "id": "u4-v6yFXzhsM",
        "outputId": "17c83452-5c6a-4097-d2fe-7da2253e15d0"
      },
      "source": [
        "print(\"Hola mundo!! \")"
      ],
      "execution_count": 1,
      "outputs": [
        {
          "output_type": "stream",
          "text": [
            "Hola mundo!! \n"
          ],
          "name": "stdout"
        }
      ]
    },
    {
      "cell_type": "markdown",
      "metadata": {
        "id": "Ve-SDlfvzpWf"
      },
      "source": [
        "Ejercicio 1: Realiza una variable con tu matricula y realiza una secuencia de imprimir con tu nombre y tu matricula concatenados."
      ]
    },
    {
      "cell_type": "code",
      "metadata": {
        "colab": {
          "base_uri": "https://localhost:8080/"
        },
        "id": "okhM08ra0J6e",
        "outputId": "aea054f4-950d-4cf6-fe3d-43ac430e8912"
      },
      "source": [
        "matri=int( input('Escriba su matrícula: ') )\n",
        "nomb=str( input('Escriba su nombre: ') )\n",
        "\n",
        "print('{}_{}'.format(matri,nomb))"
      ],
      "execution_count": 4,
      "outputs": [
        {
          "output_type": "stream",
          "text": [
            "Escriba su matrícula: 1863955\n",
            "Escriba su nombre: Eliud Narvaez Moreno\n",
            "1863955_Eliud Narvaez Moreno\n"
          ],
          "name": "stdout"
        }
      ]
    },
    {
      "cell_type": "markdown",
      "metadata": {
        "id": "LVAli6-51TyM"
      },
      "source": [
        "Ejercicio 2: Pidiendo el input del usuario pide dos números y crea una pequeña calculadora con los operadores básicos de suma, resta, multiplicación, división, y exponente.\n",
        "\n",
        "Utilizando el loop de while:"
      ]
    },
    {
      "cell_type": "code",
      "metadata": {
        "colab": {
          "base_uri": "https://localhost:8080/"
        },
        "id": "tA7xPe_z1gm4",
        "outputId": "e6e49089-4b8f-4f1a-edd0-4c236a00740b"
      },
      "source": [
        "numero1=int( input('Escriba el primer numero: ') )\n",
        "numero2=int( input('Escriba el segundo numero: ') )\n",
        "\n",
        "ope=str( input('\\n¿Que operación realizara?\\n Las operaciones   son suma(+), resta(-), multiplicación(*), división(/) y potencia(^): ') )\n",
        "while ope!='+' and ope!='-' and ope!='*' and ope!='/' and ope!='^':\n",
        "    print('\\nERROR!!!\\n Escriba un simbolo disponible')\n",
        "    ope=str( input('\\n¿Que operación realizara?\\nLas operaciones son suma(+), resta(-), multiplicación(*), división(/) y potencia(^): ') )\n",
        "    \n",
        "if ope=='+':\n",
        "    resul=numero1+numero2\n",
        "elif ope=='-':\n",
        "    resul=numero1-numero2\n",
        "elif ope=='*':\n",
        "    resul=numero1*numero2\n",
        "elif ope=='/':\n",
        "    resul=numero1/numero2\n",
        "elif ope=='^':\n",
        "    resul=numero1**numero2\n",
        "\n",
        "print('{} {} {} = {}'.format(numero1,ope,numero2,resul))"
      ],
      "execution_count": 5,
      "outputs": [
        {
          "output_type": "stream",
          "text": [
            "Escriba el primer numero: 12\n",
            "Escriba el segundo numero: 24\n",
            "\n",
            "¿Que operación realizara?\n",
            " Las operaciones   son suma(+), resta(-), multiplicación(*), división(/) y potencia(^): suma\n",
            "\n",
            "ERROR!!!\n",
            " Escriba un simbolo disponible\n",
            "\n",
            "¿Que operación realizara?\n",
            "Las operaciones son suma(+), resta(-), multiplicación(*), división(/) y potencia(^): +\n",
            "12 + 24 = 36\n"
          ],
          "name": "stdout"
        }
      ]
    },
    {
      "cell_type": "markdown",
      "metadata": {
        "id": "gFrsjHGf15mR"
      },
      "source": [
        "Ejercicio 3: Con loop while o for, realiza una lista de 10 numeros multiplos de 3, y después realiza una función de loop que sume todos los números dentro del arreglo."
      ]
    },
    {
      "cell_type": "code",
      "metadata": {
        "colab": {
          "base_uri": "https://localhost:8080/"
        },
        "id": "scdJdebK2AUP",
        "outputId": "3fd18e14-9afd-4a61-ec48-1b0a00aee3b8"
      },
      "source": [
        "mulde3=[3]\n",
        "for i in range(1,10):\n",
        "    mulde3.insert(i, mulde3[i-1]+3)\n",
        "print(mulde3)\n",
        "\n",
        "sum=0\n",
        "for i in range(len(mulde3)):\n",
        "    sum+=mulde3[i]\n",
        "\n",
        "print('Suma : {}'.format(sum))"
      ],
      "execution_count": 6,
      "outputs": [
        {
          "output_type": "stream",
          "text": [
            "[3, 6, 9, 12, 15, 18, 21, 24, 27, 30]\n",
            "Suma : 165\n"
          ],
          "name": "stdout"
        }
      ]
    },
    {
      "cell_type": "markdown",
      "metadata": {
        "id": "GrZkkGZT2K1A"
      },
      "source": [
        "Ejercicio 4: Con una función de if else, revisar si un número es par o es impar.\n",
        "\n",
        "Con una función de if else, revisar si un número es primo o no."
      ]
    },
    {
      "cell_type": "code",
      "metadata": {
        "colab": {
          "base_uri": "https://localhost:8080/"
        },
        "id": "GWjhXl-B2SzS",
        "outputId": "0fd644ca-ce79-4496-cd74-dc39ae57048f"
      },
      "source": [
        "numero=int(input('Ingrese un numero : '))\n",
        "res=numero%2\n",
        "if res==0:\n",
        "    print('El numero {} es par'.format(numero))\n",
        "elif res!=0:\n",
        "    print('El numero {} es impar'.format(numero))\n",
        "\n",
        "n=2\n",
        "band='Verdadero'\n",
        "while band=='Verdadero' and n<numero:\n",
        "    if numero%n==0:\n",
        "        band='Falso'\n",
        "    else:\n",
        "        n+=1\n",
        "if band=='Verdadero':\n",
        "    print('El numero {} es primo'.format(numero))\n",
        "elif band=='Falso':\n",
        "    print('El numero {} no es primo'.format(numero))"
      ],
      "execution_count": 7,
      "outputs": [
        {
          "output_type": "stream",
          "text": [
            "Ingrese un numero : 12\n",
            "El numero 12 es par\n",
            "El numero 12 no es primo\n"
          ],
          "name": "stdout"
        }
      ]
    },
    {
      "cell_type": "markdown",
      "metadata": {
        "id": "emurEp4X2lYl"
      },
      "source": [
        "Ejercicio 5: Utilizando diferentes clases en python, crea una calculadora con los operadores básicos de suma, resta, multiplicación, división, y exponente."
      ]
    },
    {
      "cell_type": "markdown",
      "metadata": {
        "id": "eY-MrIcx2vjE"
      },
      "source": [
        "Ejercicios con estructuras básicas de python.\n",
        "\n",
        "Tuplas:\n",
        "\n",
        "Crear una variable flotante, integer, boleana y compleja e imprimir el tipo de variable que es.\n",
        "\n",
        "Crear una tupla con valores enteros imprimir el primer y ultimo valor.\n",
        "\n",
        "Añadir 3 valores de string a la tupla.\n",
        "\n",
        "Verificar si una variable existe dentro de la tupla."
      ]
    },
    {
      "cell_type": "code",
      "metadata": {
        "colab": {
          "base_uri": "https://localhost:8080/"
        },
        "id": "nMl16Dgr2w8x",
        "outputId": "1984a3f1-4a4f-4e6b-94fc-efe616ce63a3"
      },
      "source": [
        "varflotante=1.5\n",
        "varinteger=1\n",
        "varboleana=False\n",
        "varcompleja=1j\n",
        "\n",
        "print('La variable flotante es del tipo: {}'.format(type(varflotante)))\n",
        "print('La variable integer es del tipo: {}'.format(type(varinteger)))\n",
        "print('La variable boleana es del tipo: {}'.format(type(varboleana)))\n",
        "print('La variable compleja es del tipo: {}'.format(type(varcompleja)))"
      ],
      "execution_count": 8,
      "outputs": [
        {
          "output_type": "stream",
          "text": [
            "La variable flotante es del tipo: <class 'float'>\n",
            "La variable integer es del tipo: <class 'int'>\n",
            "La variable boleana es del tipo: <class 'bool'>\n",
            "La variable compleja es del tipo: <class 'complex'>\n"
          ],
          "name": "stdout"
        }
      ]
    },
    {
      "cell_type": "code",
      "metadata": {
        "colab": {
          "base_uri": "https://localhost:8080/"
        },
        "id": "_lW6HYAm2_Ab",
        "outputId": "1a38978a-08ca-4e70-e5d0-4852b54b203d"
      },
      "source": [
        "tuple=(5,3,4,24,20,22,56,34,9,19,34,11,10)\n",
        "print('El primer valor  es {} y el ultimo es {}'.format(tuple[0],tuple[-1]))"
      ],
      "execution_count": 10,
      "outputs": [
        {
          "output_type": "stream",
          "text": [
            "El primer valor  es 5 y el ultimo es 10\n"
          ],
          "name": "stdout"
        }
      ]
    },
    {
      "cell_type": "markdown",
      "metadata": {
        "id": "6eKboTnu3Aj8"
      },
      "source": [
        "El primer valor  es 5 y el ultimo es 10\n"
      ]
    },
    {
      "cell_type": "code",
      "metadata": {
        "colab": {
          "base_uri": "https://localhost:8080/"
        },
        "id": "hShRhMSz3G7y",
        "outputId": "16d47d9a-86eb-4495-8048-2bd039a456c8"
      },
      "source": [
        "newvar=tuple.__add__((300,200,900))\n",
        "newvar"
      ],
      "execution_count": 11,
      "outputs": [
        {
          "output_type": "execute_result",
          "data": {
            "text/plain": [
              "(5, 3, 4, 24, 20, 22, 56, 34, 9, 19, 34, 11, 10, 300, 200, 900)"
            ]
          },
          "metadata": {},
          "execution_count": 11
        }
      ]
    },
    {
      "cell_type": "code",
      "metadata": {
        "colab": {
          "base_uri": "https://localhost:8080/"
        },
        "id": "W6bsnn9y3Sck",
        "outputId": "b18fd370-6ac9-451e-d936-447c064e28d6"
      },
      "source": [
        "buscar=int(input('Que numero busca: '))\n",
        "\n",
        "aux=buscar in tuple\n",
        "if aux==True:\n",
        "    print('El elemento si se encuentra'.format(buscar))\n",
        "else:\n",
        "    print('El elemento no se encuentra '.format(buscar))"
      ],
      "execution_count": 12,
      "outputs": [
        {
          "output_type": "stream",
          "text": [
            "Que numero busca: 12\n",
            "El elemento no se encuentra \n"
          ],
          "name": "stdout"
        }
      ]
    },
    {
      "cell_type": "markdown",
      "metadata": {
        "id": "XIMscUvr3njR"
      },
      "source": [
        "Listas:\n",
        "\n",
        "Crear una lista con 40 elementos aleatorios enteros.\n",
        "\n",
        "Con una funcion (def) crear dos listas nuevas a partir de la lista creada por numeros aleatorios, en la cual en una esten los elementos pares, y en la otra los elementos impares.\n",
        "\n",
        "Crear dos variables con la longitud de ambas listas nuevas e imprimir las variables.\n",
        "\n",
        "Ordenar los elementos de la lista par de mayor a menor, y los de la lista impar de menor a mayor.\n",
        "\n",
        "Utilizar al menos cuatro de las funciones de listas en python en la lista original de 40 elementos"
      ]
    },
    {
      "cell_type": "code",
      "metadata": {
        "id": "XuPb1T8w3srK"
      },
      "source": [
        "from random import sample"
      ],
      "execution_count": 13,
      "outputs": []
    },
    {
      "cell_type": "code",
      "metadata": {
        "colab": {
          "base_uri": "https://localhost:8080/"
        },
        "id": "Ka1mU8ie3y8m",
        "outputId": "c7b6f01c-c963-48b8-9841-2412d2b1339e"
      },
      "source": [
        "random=sample(range(0,100),40)\n",
        "print(random)"
      ],
      "execution_count": 14,
      "outputs": [
        {
          "output_type": "stream",
          "text": [
            "[6, 25, 57, 90, 81, 41, 71, 72, 84, 52, 59, 51, 55, 46, 29, 28, 3, 92, 54, 34, 47, 7, 16, 53, 30, 56, 19, 75, 42, 87, 8, 39, 91, 61, 63, 4, 50, 44, 65, 99]\n"
          ],
          "name": "stdout"
        }
      ]
    },
    {
      "cell_type": "code",
      "metadata": {
        "id": "GG8Sk1xL35WP"
      },
      "source": [
        "def par_impar(list):\n",
        "    par=[]\n",
        "    impar=[]\n",
        "\n",
        "    for i in range(0,len(list)):\n",
        "        residuo=random[i]%2\n",
        "        if residuo==0:\n",
        "            par.insert(i,random[i])\n",
        "        else:\n",
        "            impar.insert(i,random[i])\n",
        "    \n",
        "    return par,impar"
      ],
      "execution_count": 15,
      "outputs": []
    },
    {
      "cell_type": "code",
      "metadata": {
        "colab": {
          "base_uri": "https://localhost:8080/"
        },
        "id": "NKwfJvwb3_ZQ",
        "outputId": "7ba03d9a-7c31-48f5-eceb-cb313f5c8175"
      },
      "source": [
        "a,b=par_impar(random)\n",
        "print(a)\n",
        "\n",
        "print(b)"
      ],
      "execution_count": 16,
      "outputs": [
        {
          "output_type": "stream",
          "text": [
            "[6, 90, 72, 84, 52, 46, 28, 92, 54, 34, 16, 30, 56, 42, 8, 4, 50, 44]\n",
            "[25, 57, 81, 41, 71, 59, 51, 55, 29, 3, 47, 7, 53, 19, 75, 87, 39, 91, 61, 63, 65, 99]\n"
          ],
          "name": "stdout"
        }
      ]
    },
    {
      "cell_type": "code",
      "metadata": {
        "colab": {
          "base_uri": "https://localhost:8080/"
        },
        "id": "FrjlwlEz4E3-",
        "outputId": "81cdc0ce-24fd-4a26-de2c-582e164b7c03"
      },
      "source": [
        "\n",
        "len1=len(a)\n",
        "len2=len(b)\n",
        "print('La longitud de la lista 1 es: {}'.format(len1))\n",
        "print('La longitud de la lista 2  es: {}'.format(len2))"
      ],
      "execution_count": 17,
      "outputs": [
        {
          "output_type": "stream",
          "text": [
            "La longitud de la lista 1 es: 18\n",
            "La longitud de la lista 2  es: 22\n"
          ],
          "name": "stdout"
        }
      ]
    },
    {
      "cell_type": "code",
      "metadata": {
        "colab": {
          "base_uri": "https://localhost:8080/"
        },
        "id": "cCxgzZV84JRH",
        "outputId": "db52f7e1-5338-4227-e2e7-1853ed6a9147"
      },
      "source": [
        "print(sorted(a,reverse=True))\n",
        "print(sorted(b))"
      ],
      "execution_count": 30,
      "outputs": [
        {
          "output_type": "stream",
          "text": [
            "[92, 90, 84, 72, 56, 54, 52, 50, 46, 44, 42, 34, 30, 28, 16, 8, 6, 4]\n",
            "[3, 7, 19, 25, 29, 39, 41, 47, 51, 53, 55, 57, 59, 61, 63, 65, 71, 75, 81, 87, 91, 99]\n"
          ],
          "name": "stdout"
        }
      ]
    },
    {
      "cell_type": "markdown",
      "metadata": {
        "id": "mgW2G7mO4Oxw"
      },
      "source": [
        "Diccionarios:\n",
        "\n",
        "Crear un diccionario de 6 personas que conozcas con su primer nombre y su edad.\n",
        "\n",
        "Crear una lista con los valores de la edad y reacomodar la lista de menor a mayor valor.\n",
        "\n",
        "Usando el diccionario y un loop, imprimir solo los nombres.\n",
        "\n",
        "Añadir dos personas nuevas a tu diccionario, incluyendo edad.\n",
        "\n"
      ]
    },
    {
      "cell_type": "code",
      "metadata": {
        "colab": {
          "base_uri": "https://localhost:8080/"
        },
        "id": "fLh1V0CP6Ud4",
        "outputId": "1030783e-2993-4f68-96bb-ea6ebb773273"
      },
      "source": [
        "diccionario = {'Nombre de la persona': ['Karla','Angel','Maria','David','Servando','Yamile'],\n",
        "      'Edad de las personas': [24,22,59,13,56,29]}\n",
        "diccionario"
      ],
      "execution_count": 33,
      "outputs": [
        {
          "output_type": "execute_result",
          "data": {
            "text/plain": [
              "{'Edad de las personas': [24, 22, 59, 13, 56, 29],\n",
              " 'Nombre de la persona': ['Karla',\n",
              "  'Angel',\n",
              "  'Maria',\n",
              "  'David',\n",
              "  'Servando',\n",
              "  'Yamile']}"
            ]
          },
          "metadata": {},
          "execution_count": 33
        }
      ]
    },
    {
      "cell_type": "code",
      "metadata": {
        "colab": {
          "base_uri": "https://localhost:8080/"
        },
        "id": "Uu6zUaPM6axe",
        "outputId": "259e4550-ecba-42dc-9ce6-15bf4abc9e8c"
      },
      "source": [
        "listaedad=diccionario['Edad de las personas']\n",
        "print(sorted(listaedad))"
      ],
      "execution_count": 34,
      "outputs": [
        {
          "output_type": "stream",
          "text": [
            "[13, 22, 24, 29, 56, 59]\n"
          ],
          "name": "stdout"
        }
      ]
    },
    {
      "cell_type": "code",
      "metadata": {
        "colab": {
          "base_uri": "https://localhost:8080/"
        },
        "id": "QkIJD5nO63gO",
        "outputId": "5fbde3cb-86be-412a-b784-fd509910962c"
      },
      "source": [
        "listanom=diccionario['Nombre de la persona']\n",
        "for i in range(0,len(listanom)):\n",
        "    print('{}'.format(listanom[i]))"
      ],
      "execution_count": 35,
      "outputs": [
        {
          "output_type": "stream",
          "text": [
            "Karla\n",
            "Angel\n",
            "Maria\n",
            "David\n",
            "Servando\n",
            "Yamile\n"
          ],
          "name": "stdout"
        }
      ]
    },
    {
      "cell_type": "code",
      "metadata": {
        "colab": {
          "base_uri": "https://localhost:8080/"
        },
        "id": "4yv13lrS67xl",
        "outputId": "fb2641e4-f373-43fd-b074-38ced7a49059"
      },
      "source": [
        "X=0\n",
        "while X==0:\n",
        "    nuevonom=str(input('Ingrese un nuevo e nombre : '))\n",
        "    diccionario['Nombre de la persona'].insert(len(diccionario['Nombre de la persona']),nuevonom)\n",
        "    nuevaedad=int(input('Ingrese la edad : '))\n",
        "    diccionario['Edad de las personas'].insert(len(diccionario['Edad de las personas']),nuevaedad)\n",
        "    X=int(input('Si desea agregar otro nombre pulse 0.Siu no pulse 1: '))"
      ],
      "execution_count": 36,
      "outputs": [
        {
          "output_type": "stream",
          "text": [
            "Ingrese un nuevo e nombre : Jessica\n",
            "Ingrese la edad : 38\n",
            "Si desea agregar otro nombre pulse 0.Siu no pulse 1: 0\n",
            "Ingrese un nuevo e nombre : Lola\n",
            "Ingrese la edad : 10\n",
            "Si desea agregar otro nombre pulse 0.Siu no pulse 1: 1\n"
          ],
          "name": "stdout"
        }
      ]
    },
    {
      "cell_type": "code",
      "metadata": {
        "colab": {
          "base_uri": "https://localhost:8080/"
        },
        "id": "zaUbQOl37F1c",
        "outputId": "c66bb4a8-0788-4c8e-c220-b97fe0cdccc3"
      },
      "source": [
        "print(diccionario['Nombre de la persona'])\n",
        "print(diccionario['Edad de las personas'])"
      ],
      "execution_count": 37,
      "outputs": [
        {
          "output_type": "stream",
          "text": [
            "['Karla', 'Angel', 'Maria', 'David', 'Servando', 'Yamile', 'Jessica', 'Lola']\n",
            "[24, 22, 59, 13, 56, 29, 38, 10]\n"
          ],
          "name": "stdout"
        }
      ]
    },
    {
      "cell_type": "markdown",
      "metadata": {
        "id": "nmgdy8iZ7M6n"
      },
      "source": [
        "Sets:\n",
        "\n",
        "Crea un set con 100 numeros aleatorios enteros del 1 al 25.\n",
        "\n",
        "Comprueba la longitud de tu set.\n",
        "\n",
        "Crea una lista de 5 numeros aleatorios del 1 al 10 y comprueba si cada valor aparece en el set inicial."
      ]
    },
    {
      "cell_type": "code",
      "metadata": {
        "id": "q74-XxBP7Qro"
      },
      "source": [
        "import random"
      ],
      "execution_count": 39,
      "outputs": []
    },
    {
      "cell_type": "code",
      "metadata": {
        "colab": {
          "base_uri": "https://localhost:8080/"
        },
        "id": "asvWzXrM7T8U",
        "outputId": "730846b3-1adb-4059-ac3e-4582c5353f4b"
      },
      "source": [
        "primerset=set()\n",
        "for i in range(100):\n",
        "    primerset.add(random.randint(1,25))\n",
        "    \n",
        "primerset"
      ],
      "execution_count": 40,
      "outputs": [
        {
          "output_type": "execute_result",
          "data": {
            "text/plain": [
              "{1,\n",
              " 2,\n",
              " 3,\n",
              " 4,\n",
              " 5,\n",
              " 6,\n",
              " 7,\n",
              " 8,\n",
              " 9,\n",
              " 10,\n",
              " 11,\n",
              " 12,\n",
              " 13,\n",
              " 14,\n",
              " 15,\n",
              " 16,\n",
              " 17,\n",
              " 18,\n",
              " 19,\n",
              " 20,\n",
              " 21,\n",
              " 22,\n",
              " 23,\n",
              " 24,\n",
              " 25}"
            ]
          },
          "metadata": {},
          "execution_count": 40
        }
      ]
    },
    {
      "cell_type": "code",
      "metadata": {
        "colab": {
          "base_uri": "https://localhost:8080/"
        },
        "id": "1sCsextA7exs",
        "outputId": "e2bf1531-98b8-4abf-9ee1-b456a45d16e4"
      },
      "source": [
        "print(type(primerset))"
      ],
      "execution_count": 41,
      "outputs": [
        {
          "output_type": "stream",
          "text": [
            "<class 'set'>\n"
          ],
          "name": "stdout"
        }
      ]
    },
    {
      "cell_type": "code",
      "metadata": {
        "colab": {
          "base_uri": "https://localhost:8080/"
        },
        "id": "6qbjbw6Z7jNn",
        "outputId": "52e57af9-e88f-44dc-aebd-7373c3a2fc78"
      },
      "source": [
        "print('La longitud es de: {}'.format(len(primerset)))"
      ],
      "execution_count": 42,
      "outputs": [
        {
          "output_type": "stream",
          "text": [
            "La longitud es de: 25\n"
          ],
          "name": "stdout"
        }
      ]
    },
    {
      "cell_type": "code",
      "metadata": {
        "colab": {
          "base_uri": "https://localhost:8080/"
        },
        "id": "J209Dhy37oEZ",
        "outputId": "4e2113e6-efd2-4126-9151-cf0a9fabf55d"
      },
      "source": [
        "listrandom=list()\n",
        "for i in range(5):\n",
        "    listrandom.insert(i,random.randint(1,10))\n",
        "    \n",
        "listrandom"
      ],
      "execution_count": 43,
      "outputs": [
        {
          "output_type": "execute_result",
          "data": {
            "text/plain": [
              "[10, 4, 1, 4, 5]"
            ]
          },
          "metadata": {},
          "execution_count": 43
        }
      ]
    },
    {
      "cell_type": "code",
      "metadata": {
        "colab": {
          "base_uri": "https://localhost:8080/"
        },
        "id": "d3USw3y_7ugl",
        "outputId": "55608f3c-51d2-40f1-ab9d-41c529273d22"
      },
      "source": [
        "for i in range(0,len(listrandom)):\n",
        "    val=listrandom[i] in primerset\n",
        "    if val==True:\n",
        "        print('El numero {} Si se encuentra'.format(listrandom[i]))\n",
        "    else:\n",
        "        print(' El numero {} No se encuentra en el set inicial'.format(listrandom[i]))"
      ],
      "execution_count": 44,
      "outputs": [
        {
          "output_type": "stream",
          "text": [
            "El numero 10 Si se encuentra\n",
            "El numero 4 Si se encuentra\n",
            "El numero 1 Si se encuentra\n",
            "El numero 4 Si se encuentra\n",
            "El numero 5 Si se encuentra\n"
          ],
          "name": "stdout"
        }
      ]
    }
  ]
}